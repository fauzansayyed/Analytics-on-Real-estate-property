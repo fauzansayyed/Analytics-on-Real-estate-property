{
 "cells": [
  {
   "cell_type": "markdown",
   "id": "6f87bee1",
   "metadata": {},
   "source": [
    "# Analytics on Real estate property using Machine Learning"
   ]
  },
  {
   "cell_type": "code",
   "execution_count": null,
   "id": "78a6c73c",
   "metadata": {},
   "outputs": [],
   "source": []
  },
  {
   "cell_type": "code",
   "execution_count": null,
   "id": "147debb0",
   "metadata": {},
   "outputs": [],
   "source": []
  },
  {
   "cell_type": "code",
   "execution_count": 1,
   "id": "61e99141",
   "metadata": {},
   "outputs": [],
   "source": [
    "#Target variable: Sale_Price"
   ]
  },
  {
   "cell_type": "code",
   "execution_count": 2,
   "id": "4b70e36d",
   "metadata": {},
   "outputs": [],
   "source": [
    "import pandas as pd"
   ]
  },
  {
   "cell_type": "code",
   "execution_count": 3,
   "id": "aae30a9b",
   "metadata": {},
   "outputs": [],
   "source": [
    "pa=pd.read_csv(\"F:\\Imaticus\\Data set\\Property_Price_Train.csv\")"
   ]
  },
  {
   "cell_type": "code",
   "execution_count": 4,
   "id": "947c8348",
   "metadata": {},
   "outputs": [
    {
     "data": {
      "text/plain": [
       "(1459, 81)"
      ]
     },
     "execution_count": 4,
     "metadata": {},
     "output_type": "execute_result"
    }
   ],
   "source": [
    "pa.shape"
   ]
  },
  {
   "cell_type": "code",
   "execution_count": 5,
   "id": "0c690818",
   "metadata": {},
   "outputs": [
    {
     "data": {
      "text/html": [
       "<div>\n",
       "<style scoped>\n",
       "    .dataframe tbody tr th:only-of-type {\n",
       "        vertical-align: middle;\n",
       "    }\n",
       "\n",
       "    .dataframe tbody tr th {\n",
       "        vertical-align: top;\n",
       "    }\n",
       "\n",
       "    .dataframe thead th {\n",
       "        text-align: right;\n",
       "    }\n",
       "</style>\n",
       "<table border=\"1\" class=\"dataframe\">\n",
       "  <thead>\n",
       "    <tr style=\"text-align: right;\">\n",
       "      <th></th>\n",
       "      <th>Id</th>\n",
       "      <th>Building_Class</th>\n",
       "      <th>Zoning_Class</th>\n",
       "      <th>Lot_Extent</th>\n",
       "      <th>Lot_Size</th>\n",
       "      <th>Road_Type</th>\n",
       "      <th>Lane_Type</th>\n",
       "      <th>Property_Shape</th>\n",
       "      <th>Land_Outline</th>\n",
       "      <th>Utility_Type</th>\n",
       "      <th>...</th>\n",
       "      <th>Pool_Area</th>\n",
       "      <th>Pool_Quality</th>\n",
       "      <th>Fence_Quality</th>\n",
       "      <th>Miscellaneous_Feature</th>\n",
       "      <th>Miscellaneous_Value</th>\n",
       "      <th>Month_Sold</th>\n",
       "      <th>Year_Sold</th>\n",
       "      <th>Sale_Type</th>\n",
       "      <th>Sale_Condition</th>\n",
       "      <th>Sale_Price</th>\n",
       "    </tr>\n",
       "  </thead>\n",
       "  <tbody>\n",
       "    <tr>\n",
       "      <th>0</th>\n",
       "      <td>1</td>\n",
       "      <td>60</td>\n",
       "      <td>RLD</td>\n",
       "      <td>65.0</td>\n",
       "      <td>8450</td>\n",
       "      <td>Paved</td>\n",
       "      <td>NaN</td>\n",
       "      <td>Reg</td>\n",
       "      <td>Lvl</td>\n",
       "      <td>AllPub</td>\n",
       "      <td>...</td>\n",
       "      <td>0</td>\n",
       "      <td>NaN</td>\n",
       "      <td>NaN</td>\n",
       "      <td>NaN</td>\n",
       "      <td>0</td>\n",
       "      <td>2</td>\n",
       "      <td>2008</td>\n",
       "      <td>WD</td>\n",
       "      <td>Normal</td>\n",
       "      <td>208500</td>\n",
       "    </tr>\n",
       "    <tr>\n",
       "      <th>1</th>\n",
       "      <td>2</td>\n",
       "      <td>20</td>\n",
       "      <td>RLD</td>\n",
       "      <td>80.0</td>\n",
       "      <td>9600</td>\n",
       "      <td>Paved</td>\n",
       "      <td>NaN</td>\n",
       "      <td>Reg</td>\n",
       "      <td>Lvl</td>\n",
       "      <td>AllPub</td>\n",
       "      <td>...</td>\n",
       "      <td>0</td>\n",
       "      <td>NaN</td>\n",
       "      <td>NaN</td>\n",
       "      <td>NaN</td>\n",
       "      <td>0</td>\n",
       "      <td>5</td>\n",
       "      <td>2007</td>\n",
       "      <td>WD</td>\n",
       "      <td>Normal</td>\n",
       "      <td>181500</td>\n",
       "    </tr>\n",
       "    <tr>\n",
       "      <th>2</th>\n",
       "      <td>3</td>\n",
       "      <td>60</td>\n",
       "      <td>RLD</td>\n",
       "      <td>68.0</td>\n",
       "      <td>11250</td>\n",
       "      <td>Paved</td>\n",
       "      <td>NaN</td>\n",
       "      <td>IR1</td>\n",
       "      <td>Lvl</td>\n",
       "      <td>AllPub</td>\n",
       "      <td>...</td>\n",
       "      <td>0</td>\n",
       "      <td>NaN</td>\n",
       "      <td>NaN</td>\n",
       "      <td>NaN</td>\n",
       "      <td>0</td>\n",
       "      <td>9</td>\n",
       "      <td>2008</td>\n",
       "      <td>WD</td>\n",
       "      <td>Normal</td>\n",
       "      <td>223500</td>\n",
       "    </tr>\n",
       "    <tr>\n",
       "      <th>3</th>\n",
       "      <td>4</td>\n",
       "      <td>70</td>\n",
       "      <td>RLD</td>\n",
       "      <td>60.0</td>\n",
       "      <td>9550</td>\n",
       "      <td>Paved</td>\n",
       "      <td>NaN</td>\n",
       "      <td>IR1</td>\n",
       "      <td>Lvl</td>\n",
       "      <td>AllPub</td>\n",
       "      <td>...</td>\n",
       "      <td>0</td>\n",
       "      <td>NaN</td>\n",
       "      <td>NaN</td>\n",
       "      <td>NaN</td>\n",
       "      <td>0</td>\n",
       "      <td>2</td>\n",
       "      <td>2006</td>\n",
       "      <td>WD</td>\n",
       "      <td>Abnorml</td>\n",
       "      <td>140000</td>\n",
       "    </tr>\n",
       "    <tr>\n",
       "      <th>4</th>\n",
       "      <td>5</td>\n",
       "      <td>60</td>\n",
       "      <td>RLD</td>\n",
       "      <td>84.0</td>\n",
       "      <td>14260</td>\n",
       "      <td>Paved</td>\n",
       "      <td>NaN</td>\n",
       "      <td>IR1</td>\n",
       "      <td>Lvl</td>\n",
       "      <td>AllPub</td>\n",
       "      <td>...</td>\n",
       "      <td>0</td>\n",
       "      <td>NaN</td>\n",
       "      <td>NaN</td>\n",
       "      <td>NaN</td>\n",
       "      <td>0</td>\n",
       "      <td>12</td>\n",
       "      <td>2008</td>\n",
       "      <td>WD</td>\n",
       "      <td>Normal</td>\n",
       "      <td>250000</td>\n",
       "    </tr>\n",
       "  </tbody>\n",
       "</table>\n",
       "<p>5 rows × 81 columns</p>\n",
       "</div>"
      ],
      "text/plain": [
       "   Id  Building_Class Zoning_Class  Lot_Extent  Lot_Size Road_Type Lane_Type  \\\n",
       "0   1              60          RLD        65.0      8450     Paved       NaN   \n",
       "1   2              20          RLD        80.0      9600     Paved       NaN   \n",
       "2   3              60          RLD        68.0     11250     Paved       NaN   \n",
       "3   4              70          RLD        60.0      9550     Paved       NaN   \n",
       "4   5              60          RLD        84.0     14260     Paved       NaN   \n",
       "\n",
       "  Property_Shape Land_Outline Utility_Type  ... Pool_Area Pool_Quality  \\\n",
       "0            Reg          Lvl       AllPub  ...         0          NaN   \n",
       "1            Reg          Lvl       AllPub  ...         0          NaN   \n",
       "2            IR1          Lvl       AllPub  ...         0          NaN   \n",
       "3            IR1          Lvl       AllPub  ...         0          NaN   \n",
       "4            IR1          Lvl       AllPub  ...         0          NaN   \n",
       "\n",
       "  Fence_Quality Miscellaneous_Feature Miscellaneous_Value Month_Sold  \\\n",
       "0           NaN                   NaN                   0          2   \n",
       "1           NaN                   NaN                   0          5   \n",
       "2           NaN                   NaN                   0          9   \n",
       "3           NaN                   NaN                   0          2   \n",
       "4           NaN                   NaN                   0         12   \n",
       "\n",
       "  Year_Sold  Sale_Type  Sale_Condition  Sale_Price  \n",
       "0      2008         WD          Normal      208500  \n",
       "1      2007         WD          Normal      181500  \n",
       "2      2008         WD          Normal      223500  \n",
       "3      2006         WD         Abnorml      140000  \n",
       "4      2008         WD          Normal      250000  \n",
       "\n",
       "[5 rows x 81 columns]"
      ]
     },
     "execution_count": 5,
     "metadata": {},
     "output_type": "execute_result"
    }
   ],
   "source": [
    "pa.head()"
   ]
  },
  {
   "cell_type": "code",
   "execution_count": 6,
   "id": "30a3c5bd",
   "metadata": {},
   "outputs": [
    {
     "data": {
      "text/plain": [
       "Id                  0\n",
       "Building_Class      0\n",
       "Zoning_Class        0\n",
       "Lot_Extent        259\n",
       "Lot_Size            0\n",
       "                 ... \n",
       "Month_Sold          0\n",
       "Year_Sold           0\n",
       "Sale_Type           0\n",
       "Sale_Condition      0\n",
       "Sale_Price          0\n",
       "Length: 81, dtype: int64"
      ]
     },
     "execution_count": 6,
     "metadata": {},
     "output_type": "execute_result"
    }
   ],
   "source": [
    "pa.isnull().sum()"
   ]
  },
  {
   "cell_type": "code",
   "execution_count": null,
   "id": "3b34b67a",
   "metadata": {},
   "outputs": [],
   "source": []
  },
  {
   "cell_type": "code",
   "execution_count": 7,
   "id": "bcaf0553",
   "metadata": {},
   "outputs": [],
   "source": [
    "pd.set_option('display.max_columns',None)\n",
    "pd.set_option('display.max_rows',None)"
   ]
  },
  {
   "cell_type": "code",
   "execution_count": 8,
   "id": "15d19424",
   "metadata": {},
   "outputs": [
    {
     "data": {
      "text/plain": [
       "Lot_Extent                259\n",
       "Lane_Type                1368\n",
       "Brick_Veneer_Type           8\n",
       "Brick_Veneer_Area           8\n",
       "Basement_Height            37\n",
       "Basement_Condition         37\n",
       "Exposure_Level             38\n",
       "BsmtFinType1               37\n",
       "BsmtFinType2               38\n",
       "Electrical_System           1\n",
       "Fireplace_Quality         689\n",
       "Garage                     81\n",
       "Garage_Built_Year          81\n",
       "Garage_Finish_Year         81\n",
       "Garage_Quality             81\n",
       "Garage_Condition           81\n",
       "Pool_Quality             1452\n",
       "Fence_Quality            1178\n",
       "Miscellaneous_Feature    1405\n",
       "dtype: int64"
      ]
     },
     "execution_count": 8,
     "metadata": {},
     "output_type": "execute_result"
    }
   ],
   "source": [
    "pa.isnull().sum()[pa.isnull().sum()>0] \n",
    "#name of those columns which have nulls"
   ]
  },
  {
   "cell_type": "code",
   "execution_count": 9,
   "id": "0db81a92",
   "metadata": {},
   "outputs": [],
   "source": [
    "#what is %nulls for a col??   ans Total num of null in col*100/ total number of records"
   ]
  },
  {
   "cell_type": "code",
   "execution_count": 10,
   "id": "45208ab1",
   "metadata": {},
   "outputs": [
    {
     "data": {
      "text/plain": [
       "Lane_Type                1368\n",
       "Pool_Quality             1452\n",
       "Fence_Quality            1178\n",
       "Miscellaneous_Feature    1405\n",
       "dtype: int64"
      ]
     },
     "execution_count": 10,
     "metadata": {},
     "output_type": "execute_result"
    }
   ],
   "source": [
    "pa.isnull().sum()[pa.isnull().sum() *100 /pa.shape[0]>50] #percentage null"
   ]
  },
  {
   "cell_type": "code",
   "execution_count": 11,
   "id": "f0fbdafe",
   "metadata": {},
   "outputs": [],
   "source": [
    "#drop columns having huge nulls more than 50%"
   ]
  },
  {
   "cell_type": "code",
   "execution_count": 12,
   "id": "4d62ecc1",
   "metadata": {},
   "outputs": [],
   "source": [
    "pa = pa.drop(columns =['Lane_Type' ,'Fireplace_Quality'  , 'Pool_Quality' , 'Fence_Quality','Miscellaneous_Feature', 'Id'] )\n"
   ]
  },
  {
   "cell_type": "code",
   "execution_count": 13,
   "id": "c1b97ecf",
   "metadata": {},
   "outputs": [
    {
     "data": {
      "text/plain": [
       "Lot_Extent            259\n",
       "Brick_Veneer_Type       8\n",
       "Brick_Veneer_Area       8\n",
       "Basement_Height        37\n",
       "Basement_Condition     37\n",
       "Exposure_Level         38\n",
       "BsmtFinType1           37\n",
       "BsmtFinType2           38\n",
       "Electrical_System       1\n",
       "Garage                 81\n",
       "Garage_Built_Year      81\n",
       "Garage_Finish_Year     81\n",
       "Garage_Quality         81\n",
       "Garage_Condition       81\n",
       "dtype: int64"
      ]
     },
     "execution_count": 13,
     "metadata": {},
     "output_type": "execute_result"
    }
   ],
   "source": [
    "pa.isnull().sum()[pa.isnull().sum()>0] "
   ]
  },
  {
   "cell_type": "code",
   "execution_count": 14,
   "id": "c9523f80",
   "metadata": {},
   "outputs": [],
   "source": [
    "pa.Lot_Extent=pa.Lot_Extent.fillna(pa.Lot_Extent.mean())\n",
    "pa.Brick_Veneer_Type=pa.Brick_Veneer_Type.fillna('None')\n",
    "pa.Brick_Veneer_Area=pa.Brick_Veneer_Area.fillna(pa.Brick_Veneer_Area.mean())\n",
    "pa.Basement_Height=pa.Basement_Height.fillna('TA')\n",
    "pa.Basement_Condition=pa.Basement_Condition.fillna('TA')\n",
    "pa.Exposure_Level=pa.Exposure_Level.fillna('No')\n",
    "pa.BsmtFinType1=pa.BsmtFinType1.fillna('Unf')\n",
    "pa.BsmtFinType2=pa.BsmtFinType2.fillna('Unf')\n",
    "pa.Electrical_System=pa.Electrical_System.fillna('SBrkr')\n",
    "pa.Garage=pa.Garage.fillna('Attchd')\n",
    "pa.Garage_Built_Year=pa.Garage_Built_Year.fillna(pa.Garage_Built_Year.mean())\n",
    "pa.Garage_Finish_Year=pa.Garage_Finish_Year.fillna('Unf')\n",
    "pa.Garage_Quality=pa.Garage_Quality.fillna('TA')\n",
    "pa.Garage_Condition=pa.Garage_Condition.fillna('TA')\n"
   ]
  },
  {
   "cell_type": "code",
   "execution_count": 15,
   "id": "7b1c1d76",
   "metadata": {},
   "outputs": [
    {
     "data": {
      "text/plain": [
       "Series([], dtype: int64)"
      ]
     },
     "execution_count": 15,
     "metadata": {},
     "output_type": "execute_result"
    }
   ],
   "source": [
    "pa.isnull().sum()[pa.isnull().sum()>0] # nulls have been removed"
   ]
  },
  {
   "cell_type": "code",
   "execution_count": 16,
   "id": "a84111f6",
   "metadata": {},
   "outputs": [
    {
     "data": {
      "text/html": [
       "<div>\n",
       "<style scoped>\n",
       "    .dataframe tbody tr th:only-of-type {\n",
       "        vertical-align: middle;\n",
       "    }\n",
       "\n",
       "    .dataframe tbody tr th {\n",
       "        vertical-align: top;\n",
       "    }\n",
       "\n",
       "    .dataframe thead th {\n",
       "        text-align: right;\n",
       "    }\n",
       "</style>\n",
       "<table border=\"1\" class=\"dataframe\">\n",
       "  <thead>\n",
       "    <tr style=\"text-align: right;\">\n",
       "      <th></th>\n",
       "      <th>Building_Class</th>\n",
       "      <th>Zoning_Class</th>\n",
       "      <th>Lot_Extent</th>\n",
       "      <th>Lot_Size</th>\n",
       "      <th>Road_Type</th>\n",
       "      <th>Property_Shape</th>\n",
       "      <th>Land_Outline</th>\n",
       "      <th>Utility_Type</th>\n",
       "      <th>Lot_Configuration</th>\n",
       "      <th>Property_Slope</th>\n",
       "      <th>Neighborhood</th>\n",
       "      <th>Condition1</th>\n",
       "      <th>Condition2</th>\n",
       "      <th>House_Type</th>\n",
       "      <th>House_Design</th>\n",
       "      <th>Overall_Material</th>\n",
       "      <th>House_Condition</th>\n",
       "      <th>Construction_Year</th>\n",
       "      <th>Remodel_Year</th>\n",
       "      <th>Roof_Design</th>\n",
       "      <th>Roof_Quality</th>\n",
       "      <th>Exterior1st</th>\n",
       "      <th>Exterior2nd</th>\n",
       "      <th>Brick_Veneer_Type</th>\n",
       "      <th>Brick_Veneer_Area</th>\n",
       "      <th>Exterior_Material</th>\n",
       "      <th>Exterior_Condition</th>\n",
       "      <th>Foundation_Type</th>\n",
       "      <th>Basement_Height</th>\n",
       "      <th>Basement_Condition</th>\n",
       "      <th>Exposure_Level</th>\n",
       "      <th>BsmtFinType1</th>\n",
       "      <th>BsmtFinSF1</th>\n",
       "      <th>BsmtFinType2</th>\n",
       "      <th>BsmtFinSF2</th>\n",
       "      <th>BsmtUnfSF</th>\n",
       "      <th>Total_Basement_Area</th>\n",
       "      <th>Heating_Type</th>\n",
       "      <th>Heating_Quality</th>\n",
       "      <th>Air_Conditioning</th>\n",
       "      <th>Electrical_System</th>\n",
       "      <th>First_Floor_Area</th>\n",
       "      <th>Second_Floor_Area</th>\n",
       "      <th>LowQualFinSF</th>\n",
       "      <th>Grade_Living_Area</th>\n",
       "      <th>Underground_Full_Bathroom</th>\n",
       "      <th>Underground_Half_Bathroom</th>\n",
       "      <th>Full_Bathroom_Above_Grade</th>\n",
       "      <th>Half_Bathroom_Above_Grade</th>\n",
       "      <th>Bedroom_Above_Grade</th>\n",
       "      <th>Kitchen_Above_Grade</th>\n",
       "      <th>Kitchen_Quality</th>\n",
       "      <th>Rooms_Above_Grade</th>\n",
       "      <th>Functional_Rate</th>\n",
       "      <th>Fireplaces</th>\n",
       "      <th>Garage</th>\n",
       "      <th>Garage_Built_Year</th>\n",
       "      <th>Garage_Finish_Year</th>\n",
       "      <th>Garage_Size</th>\n",
       "      <th>Garage_Area</th>\n",
       "      <th>Garage_Quality</th>\n",
       "      <th>Garage_Condition</th>\n",
       "      <th>Pavedd_Drive</th>\n",
       "      <th>W_Deck_Area</th>\n",
       "      <th>Open_Lobby_Area</th>\n",
       "      <th>Enclosed_Lobby_Area</th>\n",
       "      <th>Three_Season_Lobby_Area</th>\n",
       "      <th>Screen_Lobby_Area</th>\n",
       "      <th>Pool_Area</th>\n",
       "      <th>Miscellaneous_Value</th>\n",
       "      <th>Month_Sold</th>\n",
       "      <th>Year_Sold</th>\n",
       "      <th>Sale_Type</th>\n",
       "      <th>Sale_Condition</th>\n",
       "      <th>Sale_Price</th>\n",
       "    </tr>\n",
       "  </thead>\n",
       "  <tbody>\n",
       "    <tr>\n",
       "      <th>0</th>\n",
       "      <td>60</td>\n",
       "      <td>RLD</td>\n",
       "      <td>65.0</td>\n",
       "      <td>8450</td>\n",
       "      <td>Paved</td>\n",
       "      <td>Reg</td>\n",
       "      <td>Lvl</td>\n",
       "      <td>AllPub</td>\n",
       "      <td>I</td>\n",
       "      <td>GS</td>\n",
       "      <td>CollgCr</td>\n",
       "      <td>Norm</td>\n",
       "      <td>Norm</td>\n",
       "      <td>1Fam</td>\n",
       "      <td>2Story</td>\n",
       "      <td>7</td>\n",
       "      <td>5</td>\n",
       "      <td>2003</td>\n",
       "      <td>2003</td>\n",
       "      <td>Gable</td>\n",
       "      <td>SS</td>\n",
       "      <td>VinylSd</td>\n",
       "      <td>VinylSd</td>\n",
       "      <td>BrkFace</td>\n",
       "      <td>196.0</td>\n",
       "      <td>Gd</td>\n",
       "      <td>TA</td>\n",
       "      <td>PC</td>\n",
       "      <td>Gd</td>\n",
       "      <td>TA</td>\n",
       "      <td>No</td>\n",
       "      <td>GLQ</td>\n",
       "      <td>706</td>\n",
       "      <td>Unf</td>\n",
       "      <td>0</td>\n",
       "      <td>150</td>\n",
       "      <td>856</td>\n",
       "      <td>GasA</td>\n",
       "      <td>Ex</td>\n",
       "      <td>Y</td>\n",
       "      <td>SBrkr</td>\n",
       "      <td>856</td>\n",
       "      <td>854</td>\n",
       "      <td>0</td>\n",
       "      <td>1710</td>\n",
       "      <td>1</td>\n",
       "      <td>0</td>\n",
       "      <td>2</td>\n",
       "      <td>1</td>\n",
       "      <td>3</td>\n",
       "      <td>1</td>\n",
       "      <td>Gd</td>\n",
       "      <td>8</td>\n",
       "      <td>TF</td>\n",
       "      <td>0</td>\n",
       "      <td>Attchd</td>\n",
       "      <td>2003.0</td>\n",
       "      <td>RFn</td>\n",
       "      <td>2</td>\n",
       "      <td>1085.793744</td>\n",
       "      <td>TA</td>\n",
       "      <td>TA</td>\n",
       "      <td>Y</td>\n",
       "      <td>163.788080</td>\n",
       "      <td>69.596115</td>\n",
       "      <td>20.337934</td>\n",
       "      <td>0</td>\n",
       "      <td>0</td>\n",
       "      <td>0</td>\n",
       "      <td>0</td>\n",
       "      <td>2</td>\n",
       "      <td>2008</td>\n",
       "      <td>WD</td>\n",
       "      <td>Normal</td>\n",
       "      <td>208500</td>\n",
       "    </tr>\n",
       "    <tr>\n",
       "      <th>1</th>\n",
       "      <td>20</td>\n",
       "      <td>RLD</td>\n",
       "      <td>80.0</td>\n",
       "      <td>9600</td>\n",
       "      <td>Paved</td>\n",
       "      <td>Reg</td>\n",
       "      <td>Lvl</td>\n",
       "      <td>AllPub</td>\n",
       "      <td>FR2P</td>\n",
       "      <td>GS</td>\n",
       "      <td>Veenker</td>\n",
       "      <td>Feedr</td>\n",
       "      <td>Norm</td>\n",
       "      <td>1Fam</td>\n",
       "      <td>1Story</td>\n",
       "      <td>6</td>\n",
       "      <td>8</td>\n",
       "      <td>1976</td>\n",
       "      <td>1976</td>\n",
       "      <td>Gable</td>\n",
       "      <td>SS</td>\n",
       "      <td>MetalSd</td>\n",
       "      <td>MetalSd</td>\n",
       "      <td>None</td>\n",
       "      <td>0.0</td>\n",
       "      <td>TA</td>\n",
       "      <td>TA</td>\n",
       "      <td>CB</td>\n",
       "      <td>Gd</td>\n",
       "      <td>TA</td>\n",
       "      <td>Gd</td>\n",
       "      <td>ALQ</td>\n",
       "      <td>978</td>\n",
       "      <td>Unf</td>\n",
       "      <td>0</td>\n",
       "      <td>284</td>\n",
       "      <td>1262</td>\n",
       "      <td>GasA</td>\n",
       "      <td>Ex</td>\n",
       "      <td>Y</td>\n",
       "      <td>SBrkr</td>\n",
       "      <td>1262</td>\n",
       "      <td>0</td>\n",
       "      <td>0</td>\n",
       "      <td>1262</td>\n",
       "      <td>0</td>\n",
       "      <td>1</td>\n",
       "      <td>2</td>\n",
       "      <td>0</td>\n",
       "      <td>3</td>\n",
       "      <td>1</td>\n",
       "      <td>TA</td>\n",
       "      <td>6</td>\n",
       "      <td>TF</td>\n",
       "      <td>1</td>\n",
       "      <td>Attchd</td>\n",
       "      <td>1976.0</td>\n",
       "      <td>RFn</td>\n",
       "      <td>2</td>\n",
       "      <td>196.316304</td>\n",
       "      <td>TA</td>\n",
       "      <td>TA</td>\n",
       "      <td>Y</td>\n",
       "      <td>198.900074</td>\n",
       "      <td>74.716033</td>\n",
       "      <td>15.039392</td>\n",
       "      <td>0</td>\n",
       "      <td>0</td>\n",
       "      <td>0</td>\n",
       "      <td>0</td>\n",
       "      <td>5</td>\n",
       "      <td>2007</td>\n",
       "      <td>WD</td>\n",
       "      <td>Normal</td>\n",
       "      <td>181500</td>\n",
       "    </tr>\n",
       "    <tr>\n",
       "      <th>2</th>\n",
       "      <td>60</td>\n",
       "      <td>RLD</td>\n",
       "      <td>68.0</td>\n",
       "      <td>11250</td>\n",
       "      <td>Paved</td>\n",
       "      <td>IR1</td>\n",
       "      <td>Lvl</td>\n",
       "      <td>AllPub</td>\n",
       "      <td>I</td>\n",
       "      <td>GS</td>\n",
       "      <td>CollgCr</td>\n",
       "      <td>Norm</td>\n",
       "      <td>Norm</td>\n",
       "      <td>1Fam</td>\n",
       "      <td>2Story</td>\n",
       "      <td>7</td>\n",
       "      <td>5</td>\n",
       "      <td>2001</td>\n",
       "      <td>2002</td>\n",
       "      <td>Gable</td>\n",
       "      <td>SS</td>\n",
       "      <td>VinylSd</td>\n",
       "      <td>VinylSd</td>\n",
       "      <td>BrkFace</td>\n",
       "      <td>162.0</td>\n",
       "      <td>Gd</td>\n",
       "      <td>TA</td>\n",
       "      <td>PC</td>\n",
       "      <td>Gd</td>\n",
       "      <td>TA</td>\n",
       "      <td>Mn</td>\n",
       "      <td>GLQ</td>\n",
       "      <td>486</td>\n",
       "      <td>Unf</td>\n",
       "      <td>0</td>\n",
       "      <td>434</td>\n",
       "      <td>920</td>\n",
       "      <td>GasA</td>\n",
       "      <td>Ex</td>\n",
       "      <td>Y</td>\n",
       "      <td>SBrkr</td>\n",
       "      <td>920</td>\n",
       "      <td>866</td>\n",
       "      <td>0</td>\n",
       "      <td>1786</td>\n",
       "      <td>1</td>\n",
       "      <td>0</td>\n",
       "      <td>2</td>\n",
       "      <td>1</td>\n",
       "      <td>3</td>\n",
       "      <td>1</td>\n",
       "      <td>Gd</td>\n",
       "      <td>6</td>\n",
       "      <td>TF</td>\n",
       "      <td>1</td>\n",
       "      <td>Attchd</td>\n",
       "      <td>2001.0</td>\n",
       "      <td>RFn</td>\n",
       "      <td>2</td>\n",
       "      <td>218.068403</td>\n",
       "      <td>TA</td>\n",
       "      <td>TA</td>\n",
       "      <td>Y</td>\n",
       "      <td>26.127533</td>\n",
       "      <td>32.085268</td>\n",
       "      <td>-46.232198</td>\n",
       "      <td>0</td>\n",
       "      <td>0</td>\n",
       "      <td>0</td>\n",
       "      <td>0</td>\n",
       "      <td>9</td>\n",
       "      <td>2008</td>\n",
       "      <td>WD</td>\n",
       "      <td>Normal</td>\n",
       "      <td>223500</td>\n",
       "    </tr>\n",
       "    <tr>\n",
       "      <th>3</th>\n",
       "      <td>70</td>\n",
       "      <td>RLD</td>\n",
       "      <td>60.0</td>\n",
       "      <td>9550</td>\n",
       "      <td>Paved</td>\n",
       "      <td>IR1</td>\n",
       "      <td>Lvl</td>\n",
       "      <td>AllPub</td>\n",
       "      <td>C</td>\n",
       "      <td>GS</td>\n",
       "      <td>Crawfor</td>\n",
       "      <td>Norm</td>\n",
       "      <td>Norm</td>\n",
       "      <td>1Fam</td>\n",
       "      <td>2Story</td>\n",
       "      <td>7</td>\n",
       "      <td>5</td>\n",
       "      <td>1915</td>\n",
       "      <td>1970</td>\n",
       "      <td>Gable</td>\n",
       "      <td>SS</td>\n",
       "      <td>Wd Sdng</td>\n",
       "      <td>Wd Shng</td>\n",
       "      <td>None</td>\n",
       "      <td>0.0</td>\n",
       "      <td>TA</td>\n",
       "      <td>TA</td>\n",
       "      <td>BT</td>\n",
       "      <td>TA</td>\n",
       "      <td>Gd</td>\n",
       "      <td>No</td>\n",
       "      <td>ALQ</td>\n",
       "      <td>216</td>\n",
       "      <td>Unf</td>\n",
       "      <td>0</td>\n",
       "      <td>540</td>\n",
       "      <td>756</td>\n",
       "      <td>GasA</td>\n",
       "      <td>Gd</td>\n",
       "      <td>Y</td>\n",
       "      <td>SBrkr</td>\n",
       "      <td>961</td>\n",
       "      <td>756</td>\n",
       "      <td>0</td>\n",
       "      <td>1717</td>\n",
       "      <td>1</td>\n",
       "      <td>0</td>\n",
       "      <td>1</td>\n",
       "      <td>0</td>\n",
       "      <td>3</td>\n",
       "      <td>1</td>\n",
       "      <td>Gd</td>\n",
       "      <td>7</td>\n",
       "      <td>TF</td>\n",
       "      <td>1</td>\n",
       "      <td>Detchd</td>\n",
       "      <td>1998.0</td>\n",
       "      <td>Unf</td>\n",
       "      <td>3</td>\n",
       "      <td>696.996439</td>\n",
       "      <td>TA</td>\n",
       "      <td>TA</td>\n",
       "      <td>Y</td>\n",
       "      <td>46.948018</td>\n",
       "      <td>40.181415</td>\n",
       "      <td>60.921821</td>\n",
       "      <td>0</td>\n",
       "      <td>0</td>\n",
       "      <td>0</td>\n",
       "      <td>0</td>\n",
       "      <td>2</td>\n",
       "      <td>2006</td>\n",
       "      <td>WD</td>\n",
       "      <td>Abnorml</td>\n",
       "      <td>140000</td>\n",
       "    </tr>\n",
       "    <tr>\n",
       "      <th>4</th>\n",
       "      <td>60</td>\n",
       "      <td>RLD</td>\n",
       "      <td>84.0</td>\n",
       "      <td>14260</td>\n",
       "      <td>Paved</td>\n",
       "      <td>IR1</td>\n",
       "      <td>Lvl</td>\n",
       "      <td>AllPub</td>\n",
       "      <td>FR2P</td>\n",
       "      <td>GS</td>\n",
       "      <td>NoRidge</td>\n",
       "      <td>Norm</td>\n",
       "      <td>Norm</td>\n",
       "      <td>1Fam</td>\n",
       "      <td>2Story</td>\n",
       "      <td>8</td>\n",
       "      <td>5</td>\n",
       "      <td>2000</td>\n",
       "      <td>2000</td>\n",
       "      <td>Gable</td>\n",
       "      <td>SS</td>\n",
       "      <td>VinylSd</td>\n",
       "      <td>VinylSd</td>\n",
       "      <td>BrkFace</td>\n",
       "      <td>350.0</td>\n",
       "      <td>Gd</td>\n",
       "      <td>TA</td>\n",
       "      <td>PC</td>\n",
       "      <td>Gd</td>\n",
       "      <td>TA</td>\n",
       "      <td>Av</td>\n",
       "      <td>GLQ</td>\n",
       "      <td>655</td>\n",
       "      <td>Unf</td>\n",
       "      <td>0</td>\n",
       "      <td>490</td>\n",
       "      <td>1145</td>\n",
       "      <td>GasA</td>\n",
       "      <td>Ex</td>\n",
       "      <td>Y</td>\n",
       "      <td>SBrkr</td>\n",
       "      <td>1145</td>\n",
       "      <td>1053</td>\n",
       "      <td>0</td>\n",
       "      <td>2198</td>\n",
       "      <td>1</td>\n",
       "      <td>0</td>\n",
       "      <td>2</td>\n",
       "      <td>1</td>\n",
       "      <td>4</td>\n",
       "      <td>1</td>\n",
       "      <td>Gd</td>\n",
       "      <td>9</td>\n",
       "      <td>TF</td>\n",
       "      <td>1</td>\n",
       "      <td>Attchd</td>\n",
       "      <td>2000.0</td>\n",
       "      <td>RFn</td>\n",
       "      <td>3</td>\n",
       "      <td>568.859882</td>\n",
       "      <td>TA</td>\n",
       "      <td>TA</td>\n",
       "      <td>Y</td>\n",
       "      <td>-10.626105</td>\n",
       "      <td>20.755323</td>\n",
       "      <td>21.788818</td>\n",
       "      <td>0</td>\n",
       "      <td>0</td>\n",
       "      <td>0</td>\n",
       "      <td>0</td>\n",
       "      <td>12</td>\n",
       "      <td>2008</td>\n",
       "      <td>WD</td>\n",
       "      <td>Normal</td>\n",
       "      <td>250000</td>\n",
       "    </tr>\n",
       "  </tbody>\n",
       "</table>\n",
       "</div>"
      ],
      "text/plain": [
       "   Building_Class Zoning_Class  Lot_Extent  Lot_Size Road_Type Property_Shape  \\\n",
       "0              60          RLD        65.0      8450     Paved            Reg   \n",
       "1              20          RLD        80.0      9600     Paved            Reg   \n",
       "2              60          RLD        68.0     11250     Paved            IR1   \n",
       "3              70          RLD        60.0      9550     Paved            IR1   \n",
       "4              60          RLD        84.0     14260     Paved            IR1   \n",
       "\n",
       "  Land_Outline Utility_Type Lot_Configuration Property_Slope Neighborhood  \\\n",
       "0          Lvl       AllPub                 I             GS      CollgCr   \n",
       "1          Lvl       AllPub              FR2P             GS      Veenker   \n",
       "2          Lvl       AllPub                 I             GS      CollgCr   \n",
       "3          Lvl       AllPub                 C             GS      Crawfor   \n",
       "4          Lvl       AllPub              FR2P             GS      NoRidge   \n",
       "\n",
       "  Condition1 Condition2 House_Type House_Design  Overall_Material  \\\n",
       "0       Norm       Norm       1Fam       2Story                 7   \n",
       "1      Feedr       Norm       1Fam       1Story                 6   \n",
       "2       Norm       Norm       1Fam       2Story                 7   \n",
       "3       Norm       Norm       1Fam       2Story                 7   \n",
       "4       Norm       Norm       1Fam       2Story                 8   \n",
       "\n",
       "   House_Condition  Construction_Year  Remodel_Year Roof_Design Roof_Quality  \\\n",
       "0                5               2003          2003       Gable           SS   \n",
       "1                8               1976          1976       Gable           SS   \n",
       "2                5               2001          2002       Gable           SS   \n",
       "3                5               1915          1970       Gable           SS   \n",
       "4                5               2000          2000       Gable           SS   \n",
       "\n",
       "  Exterior1st Exterior2nd Brick_Veneer_Type  Brick_Veneer_Area  \\\n",
       "0     VinylSd     VinylSd           BrkFace              196.0   \n",
       "1     MetalSd     MetalSd              None                0.0   \n",
       "2     VinylSd     VinylSd           BrkFace              162.0   \n",
       "3     Wd Sdng     Wd Shng              None                0.0   \n",
       "4     VinylSd     VinylSd           BrkFace              350.0   \n",
       "\n",
       "  Exterior_Material Exterior_Condition Foundation_Type Basement_Height  \\\n",
       "0                Gd                 TA              PC              Gd   \n",
       "1                TA                 TA              CB              Gd   \n",
       "2                Gd                 TA              PC              Gd   \n",
       "3                TA                 TA              BT              TA   \n",
       "4                Gd                 TA              PC              Gd   \n",
       "\n",
       "  Basement_Condition Exposure_Level BsmtFinType1  BsmtFinSF1 BsmtFinType2  \\\n",
       "0                 TA             No          GLQ         706          Unf   \n",
       "1                 TA             Gd          ALQ         978          Unf   \n",
       "2                 TA             Mn          GLQ         486          Unf   \n",
       "3                 Gd             No          ALQ         216          Unf   \n",
       "4                 TA             Av          GLQ         655          Unf   \n",
       "\n",
       "   BsmtFinSF2  BsmtUnfSF  Total_Basement_Area Heating_Type Heating_Quality  \\\n",
       "0           0        150                  856         GasA              Ex   \n",
       "1           0        284                 1262         GasA              Ex   \n",
       "2           0        434                  920         GasA              Ex   \n",
       "3           0        540                  756         GasA              Gd   \n",
       "4           0        490                 1145         GasA              Ex   \n",
       "\n",
       "  Air_Conditioning Electrical_System  First_Floor_Area  Second_Floor_Area  \\\n",
       "0                Y             SBrkr               856                854   \n",
       "1                Y             SBrkr              1262                  0   \n",
       "2                Y             SBrkr               920                866   \n",
       "3                Y             SBrkr               961                756   \n",
       "4                Y             SBrkr              1145               1053   \n",
       "\n",
       "   LowQualFinSF  Grade_Living_Area  Underground_Full_Bathroom  \\\n",
       "0             0               1710                          1   \n",
       "1             0               1262                          0   \n",
       "2             0               1786                          1   \n",
       "3             0               1717                          1   \n",
       "4             0               2198                          1   \n",
       "\n",
       "   Underground_Half_Bathroom  Full_Bathroom_Above_Grade  \\\n",
       "0                          0                          2   \n",
       "1                          1                          2   \n",
       "2                          0                          2   \n",
       "3                          0                          1   \n",
       "4                          0                          2   \n",
       "\n",
       "   Half_Bathroom_Above_Grade  Bedroom_Above_Grade  Kitchen_Above_Grade  \\\n",
       "0                          1                    3                    1   \n",
       "1                          0                    3                    1   \n",
       "2                          1                    3                    1   \n",
       "3                          0                    3                    1   \n",
       "4                          1                    4                    1   \n",
       "\n",
       "  Kitchen_Quality  Rooms_Above_Grade Functional_Rate  Fireplaces  Garage  \\\n",
       "0              Gd                  8              TF           0  Attchd   \n",
       "1              TA                  6              TF           1  Attchd   \n",
       "2              Gd                  6              TF           1  Attchd   \n",
       "3              Gd                  7              TF           1  Detchd   \n",
       "4              Gd                  9              TF           1  Attchd   \n",
       "\n",
       "   Garage_Built_Year Garage_Finish_Year  Garage_Size  Garage_Area  \\\n",
       "0             2003.0                RFn            2  1085.793744   \n",
       "1             1976.0                RFn            2   196.316304   \n",
       "2             2001.0                RFn            2   218.068403   \n",
       "3             1998.0                Unf            3   696.996439   \n",
       "4             2000.0                RFn            3   568.859882   \n",
       "\n",
       "  Garage_Quality Garage_Condition Pavedd_Drive  W_Deck_Area  Open_Lobby_Area  \\\n",
       "0             TA               TA            Y   163.788080        69.596115   \n",
       "1             TA               TA            Y   198.900074        74.716033   \n",
       "2             TA               TA            Y    26.127533        32.085268   \n",
       "3             TA               TA            Y    46.948018        40.181415   \n",
       "4             TA               TA            Y   -10.626105        20.755323   \n",
       "\n",
       "   Enclosed_Lobby_Area  Three_Season_Lobby_Area  Screen_Lobby_Area  Pool_Area  \\\n",
       "0            20.337934                        0                  0          0   \n",
       "1            15.039392                        0                  0          0   \n",
       "2           -46.232198                        0                  0          0   \n",
       "3            60.921821                        0                  0          0   \n",
       "4            21.788818                        0                  0          0   \n",
       "\n",
       "   Miscellaneous_Value  Month_Sold  Year_Sold Sale_Type Sale_Condition  \\\n",
       "0                    0           2       2008        WD         Normal   \n",
       "1                    0           5       2007        WD         Normal   \n",
       "2                    0           9       2008        WD         Normal   \n",
       "3                    0           2       2006        WD        Abnorml   \n",
       "4                    0          12       2008        WD         Normal   \n",
       "\n",
       "   Sale_Price  \n",
       "0      208500  \n",
       "1      181500  \n",
       "2      223500  \n",
       "3      140000  \n",
       "4      250000  "
      ]
     },
     "execution_count": 16,
     "metadata": {},
     "output_type": "execute_result"
    }
   ],
   "source": [
    "pa.head()"
   ]
  },
  {
   "cell_type": "code",
   "execution_count": 17,
   "id": "921fa2d8",
   "metadata": {},
   "outputs": [],
   "source": [
    "from sklearn.preprocessing import LabelEncoder\n",
    "le=LabelEncoder()"
   ]
  },
  {
   "cell_type": "code",
   "execution_count": 18,
   "id": "9a5e4684",
   "metadata": {},
   "outputs": [
    {
     "data": {
      "text/plain": [
       "RLD       1150\n",
       "RMD        218\n",
       "FVR         65\n",
       "RHD         16\n",
       "Commer      10\n",
       "Name: Zoning_Class, dtype: int64"
      ]
     },
     "execution_count": 18,
     "metadata": {},
     "output_type": "execute_result"
    }
   ],
   "source": [
    "pa.Zoning_Class.value_counts()"
   ]
  },
  {
   "cell_type": "code",
   "execution_count": 19,
   "id": "dc7d93c4",
   "metadata": {},
   "outputs": [
    {
     "data": {
      "text/plain": [
       "Index(['Zoning_Class', 'Road_Type', 'Property_Shape', 'Land_Outline',\n",
       "       'Utility_Type', 'Lot_Configuration', 'Property_Slope', 'Neighborhood',\n",
       "       'Condition1', 'Condition2', 'House_Type', 'House_Design', 'Roof_Design',\n",
       "       'Roof_Quality', 'Exterior1st', 'Exterior2nd', 'Brick_Veneer_Type',\n",
       "       'Exterior_Material', 'Exterior_Condition', 'Foundation_Type',\n",
       "       'Basement_Height', 'Basement_Condition', 'Exposure_Level',\n",
       "       'BsmtFinType1', 'BsmtFinType2', 'Heating_Type', 'Heating_Quality',\n",
       "       'Air_Conditioning', 'Electrical_System', 'Kitchen_Quality',\n",
       "       'Functional_Rate', 'Garage', 'Garage_Finish_Year', 'Garage_Quality',\n",
       "       'Garage_Condition', 'Pavedd_Drive', 'Sale_Type', 'Sale_Condition'],\n",
       "      dtype='object')"
      ]
     },
     "execution_count": 19,
     "metadata": {},
     "output_type": "execute_result"
    }
   ],
   "source": [
    "pa.select_dtypes(include= ['object']).columns"
   ]
  },
  {
   "cell_type": "code",
   "execution_count": 20,
   "id": "e1be2e72",
   "metadata": {},
   "outputs": [],
   "source": [
    "pa[pa.select_dtypes(include= ['object']).columns]  = pa[pa.select_dtypes(include= ['object']).columns].apply(le.fit_transform)\n"
   ]
  },
  {
   "cell_type": "code",
   "execution_count": 21,
   "id": "6c1cac80",
   "metadata": {},
   "outputs": [
    {
     "data": {
      "text/plain": [
       "3    1150\n",
       "4     218\n",
       "1      65\n",
       "2      16\n",
       "0      10\n",
       "Name: Zoning_Class, dtype: int64"
      ]
     },
     "execution_count": 21,
     "metadata": {},
     "output_type": "execute_result"
    }
   ],
   "source": [
    "pa.Zoning_Class.value_counts()"
   ]
  },
  {
   "cell_type": "code",
   "execution_count": 22,
   "id": "1c6f02dc",
   "metadata": {},
   "outputs": [
    {
     "data": {
      "text/html": [
       "<div>\n",
       "<style scoped>\n",
       "    .dataframe tbody tr th:only-of-type {\n",
       "        vertical-align: middle;\n",
       "    }\n",
       "\n",
       "    .dataframe tbody tr th {\n",
       "        vertical-align: top;\n",
       "    }\n",
       "\n",
       "    .dataframe thead th {\n",
       "        text-align: right;\n",
       "    }\n",
       "</style>\n",
       "<table border=\"1\" class=\"dataframe\">\n",
       "  <thead>\n",
       "    <tr style=\"text-align: right;\">\n",
       "      <th></th>\n",
       "      <th>Building_Class</th>\n",
       "      <th>Zoning_Class</th>\n",
       "      <th>Lot_Extent</th>\n",
       "      <th>Lot_Size</th>\n",
       "      <th>Road_Type</th>\n",
       "      <th>Property_Shape</th>\n",
       "      <th>Land_Outline</th>\n",
       "      <th>Utility_Type</th>\n",
       "      <th>Lot_Configuration</th>\n",
       "      <th>Property_Slope</th>\n",
       "      <th>Neighborhood</th>\n",
       "      <th>Condition1</th>\n",
       "      <th>Condition2</th>\n",
       "      <th>House_Type</th>\n",
       "      <th>House_Design</th>\n",
       "      <th>Overall_Material</th>\n",
       "      <th>House_Condition</th>\n",
       "      <th>Construction_Year</th>\n",
       "      <th>Remodel_Year</th>\n",
       "      <th>Roof_Design</th>\n",
       "      <th>Roof_Quality</th>\n",
       "      <th>Exterior1st</th>\n",
       "      <th>Exterior2nd</th>\n",
       "      <th>Brick_Veneer_Type</th>\n",
       "      <th>Brick_Veneer_Area</th>\n",
       "      <th>Exterior_Material</th>\n",
       "      <th>Exterior_Condition</th>\n",
       "      <th>Foundation_Type</th>\n",
       "      <th>Basement_Height</th>\n",
       "      <th>Basement_Condition</th>\n",
       "      <th>Exposure_Level</th>\n",
       "      <th>BsmtFinType1</th>\n",
       "      <th>BsmtFinSF1</th>\n",
       "      <th>BsmtFinType2</th>\n",
       "      <th>BsmtFinSF2</th>\n",
       "      <th>BsmtUnfSF</th>\n",
       "      <th>Total_Basement_Area</th>\n",
       "      <th>Heating_Type</th>\n",
       "      <th>Heating_Quality</th>\n",
       "      <th>Air_Conditioning</th>\n",
       "      <th>Electrical_System</th>\n",
       "      <th>First_Floor_Area</th>\n",
       "      <th>Second_Floor_Area</th>\n",
       "      <th>LowQualFinSF</th>\n",
       "      <th>Grade_Living_Area</th>\n",
       "      <th>Underground_Full_Bathroom</th>\n",
       "      <th>Underground_Half_Bathroom</th>\n",
       "      <th>Full_Bathroom_Above_Grade</th>\n",
       "      <th>Half_Bathroom_Above_Grade</th>\n",
       "      <th>Bedroom_Above_Grade</th>\n",
       "      <th>Kitchen_Above_Grade</th>\n",
       "      <th>Kitchen_Quality</th>\n",
       "      <th>Rooms_Above_Grade</th>\n",
       "      <th>Functional_Rate</th>\n",
       "      <th>Fireplaces</th>\n",
       "      <th>Garage</th>\n",
       "      <th>Garage_Built_Year</th>\n",
       "      <th>Garage_Finish_Year</th>\n",
       "      <th>Garage_Size</th>\n",
       "      <th>Garage_Area</th>\n",
       "      <th>Garage_Quality</th>\n",
       "      <th>Garage_Condition</th>\n",
       "      <th>Pavedd_Drive</th>\n",
       "      <th>W_Deck_Area</th>\n",
       "      <th>Open_Lobby_Area</th>\n",
       "      <th>Enclosed_Lobby_Area</th>\n",
       "      <th>Three_Season_Lobby_Area</th>\n",
       "      <th>Screen_Lobby_Area</th>\n",
       "      <th>Pool_Area</th>\n",
       "      <th>Miscellaneous_Value</th>\n",
       "      <th>Month_Sold</th>\n",
       "      <th>Year_Sold</th>\n",
       "      <th>Sale_Type</th>\n",
       "      <th>Sale_Condition</th>\n",
       "      <th>Sale_Price</th>\n",
       "    </tr>\n",
       "  </thead>\n",
       "  <tbody>\n",
       "    <tr>\n",
       "      <th>0</th>\n",
       "      <td>60</td>\n",
       "      <td>3</td>\n",
       "      <td>65.0</td>\n",
       "      <td>8450</td>\n",
       "      <td>1</td>\n",
       "      <td>3</td>\n",
       "      <td>3</td>\n",
       "      <td>0</td>\n",
       "      <td>4</td>\n",
       "      <td>0</td>\n",
       "      <td>5</td>\n",
       "      <td>2</td>\n",
       "      <td>2</td>\n",
       "      <td>0</td>\n",
       "      <td>5</td>\n",
       "      <td>7</td>\n",
       "      <td>5</td>\n",
       "      <td>2003</td>\n",
       "      <td>2003</td>\n",
       "      <td>1</td>\n",
       "      <td>4</td>\n",
       "      <td>12</td>\n",
       "      <td>13</td>\n",
       "      <td>1</td>\n",
       "      <td>196.0</td>\n",
       "      <td>2</td>\n",
       "      <td>4</td>\n",
       "      <td>2</td>\n",
       "      <td>2</td>\n",
       "      <td>3</td>\n",
       "      <td>3</td>\n",
       "      <td>2</td>\n",
       "      <td>706</td>\n",
       "      <td>5</td>\n",
       "      <td>0</td>\n",
       "      <td>150</td>\n",
       "      <td>856</td>\n",
       "      <td>1</td>\n",
       "      <td>0</td>\n",
       "      <td>1</td>\n",
       "      <td>4</td>\n",
       "      <td>856</td>\n",
       "      <td>854</td>\n",
       "      <td>0</td>\n",
       "      <td>1710</td>\n",
       "      <td>1</td>\n",
       "      <td>0</td>\n",
       "      <td>2</td>\n",
       "      <td>1</td>\n",
       "      <td>3</td>\n",
       "      <td>1</td>\n",
       "      <td>2</td>\n",
       "      <td>8</td>\n",
       "      <td>7</td>\n",
       "      <td>0</td>\n",
       "      <td>2</td>\n",
       "      <td>2003.0</td>\n",
       "      <td>1</td>\n",
       "      <td>2</td>\n",
       "      <td>1085.793744</td>\n",
       "      <td>4</td>\n",
       "      <td>4</td>\n",
       "      <td>2</td>\n",
       "      <td>163.788080</td>\n",
       "      <td>69.596115</td>\n",
       "      <td>20.337934</td>\n",
       "      <td>0</td>\n",
       "      <td>0</td>\n",
       "      <td>0</td>\n",
       "      <td>0</td>\n",
       "      <td>2</td>\n",
       "      <td>2008</td>\n",
       "      <td>8</td>\n",
       "      <td>4</td>\n",
       "      <td>208500</td>\n",
       "    </tr>\n",
       "    <tr>\n",
       "      <th>1</th>\n",
       "      <td>20</td>\n",
       "      <td>3</td>\n",
       "      <td>80.0</td>\n",
       "      <td>9600</td>\n",
       "      <td>1</td>\n",
       "      <td>3</td>\n",
       "      <td>3</td>\n",
       "      <td>0</td>\n",
       "      <td>2</td>\n",
       "      <td>0</td>\n",
       "      <td>24</td>\n",
       "      <td>1</td>\n",
       "      <td>2</td>\n",
       "      <td>0</td>\n",
       "      <td>2</td>\n",
       "      <td>6</td>\n",
       "      <td>8</td>\n",
       "      <td>1976</td>\n",
       "      <td>1976</td>\n",
       "      <td>1</td>\n",
       "      <td>4</td>\n",
       "      <td>8</td>\n",
       "      <td>8</td>\n",
       "      <td>2</td>\n",
       "      <td>0.0</td>\n",
       "      <td>3</td>\n",
       "      <td>4</td>\n",
       "      <td>1</td>\n",
       "      <td>2</td>\n",
       "      <td>3</td>\n",
       "      <td>1</td>\n",
       "      <td>0</td>\n",
       "      <td>978</td>\n",
       "      <td>5</td>\n",
       "      <td>0</td>\n",
       "      <td>284</td>\n",
       "      <td>1262</td>\n",
       "      <td>1</td>\n",
       "      <td>0</td>\n",
       "      <td>1</td>\n",
       "      <td>4</td>\n",
       "      <td>1262</td>\n",
       "      <td>0</td>\n",
       "      <td>0</td>\n",
       "      <td>1262</td>\n",
       "      <td>0</td>\n",
       "      <td>1</td>\n",
       "      <td>2</td>\n",
       "      <td>0</td>\n",
       "      <td>3</td>\n",
       "      <td>1</td>\n",
       "      <td>3</td>\n",
       "      <td>6</td>\n",
       "      <td>7</td>\n",
       "      <td>1</td>\n",
       "      <td>2</td>\n",
       "      <td>1976.0</td>\n",
       "      <td>1</td>\n",
       "      <td>2</td>\n",
       "      <td>196.316304</td>\n",
       "      <td>4</td>\n",
       "      <td>4</td>\n",
       "      <td>2</td>\n",
       "      <td>198.900074</td>\n",
       "      <td>74.716033</td>\n",
       "      <td>15.039392</td>\n",
       "      <td>0</td>\n",
       "      <td>0</td>\n",
       "      <td>0</td>\n",
       "      <td>0</td>\n",
       "      <td>5</td>\n",
       "      <td>2007</td>\n",
       "      <td>8</td>\n",
       "      <td>4</td>\n",
       "      <td>181500</td>\n",
       "    </tr>\n",
       "  </tbody>\n",
       "</table>\n",
       "</div>"
      ],
      "text/plain": [
       "   Building_Class  Zoning_Class  Lot_Extent  Lot_Size  Road_Type  \\\n",
       "0              60             3        65.0      8450          1   \n",
       "1              20             3        80.0      9600          1   \n",
       "\n",
       "   Property_Shape  Land_Outline  Utility_Type  Lot_Configuration  \\\n",
       "0               3             3             0                  4   \n",
       "1               3             3             0                  2   \n",
       "\n",
       "   Property_Slope  Neighborhood  Condition1  Condition2  House_Type  \\\n",
       "0               0             5           2           2           0   \n",
       "1               0            24           1           2           0   \n",
       "\n",
       "   House_Design  Overall_Material  House_Condition  Construction_Year  \\\n",
       "0             5                 7                5               2003   \n",
       "1             2                 6                8               1976   \n",
       "\n",
       "   Remodel_Year  Roof_Design  Roof_Quality  Exterior1st  Exterior2nd  \\\n",
       "0          2003            1             4           12           13   \n",
       "1          1976            1             4            8            8   \n",
       "\n",
       "   Brick_Veneer_Type  Brick_Veneer_Area  Exterior_Material  \\\n",
       "0                  1              196.0                  2   \n",
       "1                  2                0.0                  3   \n",
       "\n",
       "   Exterior_Condition  Foundation_Type  Basement_Height  Basement_Condition  \\\n",
       "0                   4                2                2                   3   \n",
       "1                   4                1                2                   3   \n",
       "\n",
       "   Exposure_Level  BsmtFinType1  BsmtFinSF1  BsmtFinType2  BsmtFinSF2  \\\n",
       "0               3             2         706             5           0   \n",
       "1               1             0         978             5           0   \n",
       "\n",
       "   BsmtUnfSF  Total_Basement_Area  Heating_Type  Heating_Quality  \\\n",
       "0        150                  856             1                0   \n",
       "1        284                 1262             1                0   \n",
       "\n",
       "   Air_Conditioning  Electrical_System  First_Floor_Area  Second_Floor_Area  \\\n",
       "0                 1                  4               856                854   \n",
       "1                 1                  4              1262                  0   \n",
       "\n",
       "   LowQualFinSF  Grade_Living_Area  Underground_Full_Bathroom  \\\n",
       "0             0               1710                          1   \n",
       "1             0               1262                          0   \n",
       "\n",
       "   Underground_Half_Bathroom  Full_Bathroom_Above_Grade  \\\n",
       "0                          0                          2   \n",
       "1                          1                          2   \n",
       "\n",
       "   Half_Bathroom_Above_Grade  Bedroom_Above_Grade  Kitchen_Above_Grade  \\\n",
       "0                          1                    3                    1   \n",
       "1                          0                    3                    1   \n",
       "\n",
       "   Kitchen_Quality  Rooms_Above_Grade  Functional_Rate  Fireplaces  Garage  \\\n",
       "0                2                  8                7           0       2   \n",
       "1                3                  6                7           1       2   \n",
       "\n",
       "   Garage_Built_Year  Garage_Finish_Year  Garage_Size  Garage_Area  \\\n",
       "0             2003.0                   1            2  1085.793744   \n",
       "1             1976.0                   1            2   196.316304   \n",
       "\n",
       "   Garage_Quality  Garage_Condition  Pavedd_Drive  W_Deck_Area  \\\n",
       "0               4                 4             2   163.788080   \n",
       "1               4                 4             2   198.900074   \n",
       "\n",
       "   Open_Lobby_Area  Enclosed_Lobby_Area  Three_Season_Lobby_Area  \\\n",
       "0        69.596115            20.337934                        0   \n",
       "1        74.716033            15.039392                        0   \n",
       "\n",
       "   Screen_Lobby_Area  Pool_Area  Miscellaneous_Value  Month_Sold  Year_Sold  \\\n",
       "0                  0          0                    0           2       2008   \n",
       "1                  0          0                    0           5       2007   \n",
       "\n",
       "   Sale_Type  Sale_Condition  Sale_Price  \n",
       "0          8               4      208500  \n",
       "1          8               4      181500  "
      ]
     },
     "execution_count": 22,
     "metadata": {},
     "output_type": "execute_result"
    }
   ],
   "source": [
    "pa.head(2)"
   ]
  },
  {
   "cell_type": "code",
   "execution_count": 23,
   "id": "e1d14bee",
   "metadata": {},
   "outputs": [
    {
     "data": {
      "text/plain": [
       "Series([], dtype: object)"
      ]
     },
     "execution_count": 23,
     "metadata": {},
     "output_type": "execute_result"
    }
   ],
   "source": [
    "pa.dtypes[pa.dtypes=='object'] #empty list"
   ]
  },
  {
   "cell_type": "code",
   "execution_count": 74,
   "id": "471ffbf0",
   "metadata": {},
   "outputs": [],
   "source": [
    "pa=pa.loc[:,l2]   #building model changes"
   ]
  },
  {
   "cell_type": "code",
   "execution_count": 75,
   "id": "5b626df6",
   "metadata": {},
   "outputs": [],
   "source": [
    "from sklearn.model_selection import train_test_split"
   ]
  },
  {
   "cell_type": "code",
   "execution_count": 76,
   "id": "3799f514",
   "metadata": {},
   "outputs": [],
   "source": [
    "pa_train, pa_test=train_test_split(pa,test_size=.2)"
   ]
  },
  {
   "cell_type": "code",
   "execution_count": 77,
   "id": "e18e397c",
   "metadata": {},
   "outputs": [],
   "source": [
    "pa_train_x=pa_train.iloc[:,0:-1]\n",
    "pa_train_y=pa_train.iloc[:,-1]"
   ]
  },
  {
   "cell_type": "code",
   "execution_count": 78,
   "id": "bffd568f",
   "metadata": {},
   "outputs": [],
   "source": [
    "pa_test_x =pa_test.iloc[:,0:-1]\n",
    "pa_test_y =pa_test.iloc[:,-1]"
   ]
  },
  {
   "cell_type": "code",
   "execution_count": 79,
   "id": "47268524",
   "metadata": {},
   "outputs": [],
   "source": [
    "from sklearn.linear_model import LinearRegression"
   ]
  },
  {
   "cell_type": "code",
   "execution_count": 80,
   "id": "e65fa298",
   "metadata": {},
   "outputs": [],
   "source": [
    "linreg_pa=LinearRegression()"
   ]
  },
  {
   "cell_type": "code",
   "execution_count": 81,
   "id": "c8ea43f6",
   "metadata": {},
   "outputs": [
    {
     "data": {
      "text/plain": [
       "LinearRegression()"
      ]
     },
     "execution_count": 81,
     "metadata": {},
     "output_type": "execute_result"
    }
   ],
   "source": [
    "linreg_pa.fit(pa_train_x,pa_train_y)"
   ]
  },
  {
   "cell_type": "code",
   "execution_count": 82,
   "id": "f7d38d88",
   "metadata": {},
   "outputs": [
    {
     "data": {
      "text/plain": [
       "0.8331224141419805"
      ]
     },
     "execution_count": 82,
     "metadata": {},
     "output_type": "execute_result"
    }
   ],
   "source": [
    "Rsquare=linreg_pa.score(pa_train_x,pa_train_y)\n",
    "Rsquare"
   ]
  },
  {
   "cell_type": "code",
   "execution_count": 83,
   "id": "3abfa2db",
   "metadata": {},
   "outputs": [],
   "source": [
    "N=pa_train_x.shape[0]\n",
    "K=pa_train_x.shape[1]"
   ]
  },
  {
   "cell_type": "code",
   "execution_count": 84,
   "id": "94a0d61f",
   "metadata": {},
   "outputs": [
    {
     "data": {
      "text/plain": [
       "0.8264234923189556"
      ]
     },
     "execution_count": 84,
     "metadata": {},
     "output_type": "execute_result"
    }
   ],
   "source": [
    "#Adjusted Rsquare\n",
    "AdjRsquare =1-(1-Rsquare)*(N-1)/(N-K-1)\n",
    "AdjRsquare"
   ]
  },
  {
   "cell_type": "code",
   "execution_count": 85,
   "id": "146777c9",
   "metadata": {},
   "outputs": [],
   "source": [
    "pred_train_pa=linreg_pa.predict(pa_train_x) #predicted values on train data\n",
    "pred_test_pa=linreg_pa.predict(pa_test_x) #predicted values on test data"
   ]
  },
  {
   "cell_type": "code",
   "execution_count": 86,
   "id": "b0f23a20",
   "metadata": {},
   "outputs": [],
   "source": [
    "err_train_pa  = pa_train_y -  pred_train_pa\n",
    "err_test_pa = pa_test_y -  pred_test_pa\n"
   ]
  },
  {
   "cell_type": "code",
   "execution_count": 87,
   "id": "0cafca60",
   "metadata": {},
   "outputs": [],
   "source": [
    "#Lets check assumptions"
   ]
  },
  {
   "cell_type": "code",
   "execution_count": 88,
   "id": "f096f5d1",
   "metadata": {},
   "outputs": [],
   "source": [
    "import numpy as np"
   ]
  },
  {
   "cell_type": "code",
   "execution_count": 89,
   "id": "230e877f",
   "metadata": {},
   "outputs": [
    {
     "data": {
      "text/plain": [
       "-1.679892047614038e-10"
      ]
     },
     "execution_count": 89,
     "metadata": {},
     "output_type": "execute_result"
    }
   ],
   "source": [
    "np.mean(err_train_pa)"
   ]
  },
  {
   "cell_type": "code",
   "execution_count": 90,
   "id": "9834a66b",
   "metadata": {},
   "outputs": [],
   "source": [
    "import matplotlib.pyplot as plt\n",
    "import seaborn as sns"
   ]
  },
  {
   "cell_type": "code",
   "execution_count": 91,
   "id": "0f958c4b",
   "metadata": {},
   "outputs": [
    {
     "data": {
      "text/plain": [
       "(array([  2.,   0.,   0.,   0.,   0.,   0.,   1.,   1.,  10.,  62., 432.,\n",
       "        549.,  82.,  14.,   7.,   2.,   3.,   1.,   0.,   1.]),\n",
       " array([-357790.77602382, -325566.68504496, -293342.59406611,\n",
       "        -261118.50308725, -228894.41210839, -196670.32112954,\n",
       "        -164446.23015068, -132222.13917182,  -99998.04819297,\n",
       "         -67773.95721411,  -35549.86623525,   -3325.7752564 ,\n",
       "          28898.31572246,   61122.40670132,   93346.49768017,\n",
       "         125570.58865903,  157794.67963789,  190018.77061674,\n",
       "         222242.8615956 ,  254466.95257446,  286691.04355331]),\n",
       " <BarContainer object of 20 artists>)"
      ]
     },
     "execution_count": 91,
     "metadata": {},
     "output_type": "execute_result"
    },
    {
     "data": {
      "image/png": "[encoded data removed]",
      "text/plain": [
       "<Figure size 432x288 with 1 Axes>"
      ]
     },
     "metadata": {
      "needs_background": "light"
     },
     "output_type": "display_data"
    }
   ],
   "source": [
    "plt.hist(err_train_pa, bins=20)"
   ]
  },
  {
   "cell_type": "code",
   "execution_count": 92,
   "id": "78f542a8",
   "metadata": {},
   "outputs": [
    {
     "data": {
      "text/plain": [
       "<seaborn.axisgrid.FacetGrid at 0x229eccd34f0>"
      ]
     },
     "execution_count": 92,
     "metadata": {},
     "output_type": "execute_result"
    },
    {
     "data": {
      "image/png": "[encoded data removed]",
      "text/plain": [
       "<Figure size 360x360 with 1 Axes>"
      ]
     },
     "metadata": {
      "needs_background": "light"
     },
     "output_type": "display_data"
    }
   ],
   "source": [
    "sns.displot(err_train_pa)"
   ]
  },
  {
   "cell_type": "code",
   "execution_count": 93,
   "id": "7fe0cb6e",
   "metadata": {},
   "outputs": [
    {
     "name": "stderr",
     "output_type": "stream",
     "text": [
      "E:\\Anakonda2022\\lib\\site-packages\\seaborn\\_decorators.py:36: FutureWarning: Pass the following variable as a keyword arg: x. From version 0.12, the only valid positional argument will be `data`, and passing other arguments without an explicit keyword will result in an error or misinterpretation.\n",
      "  warnings.warn(\n"
     ]
    },
    {
     "data": {
      "image/png": "[encoded data removed]",
      "text/plain": [
       "<Figure size 432x288 with 1 Axes>"
      ]
     },
     "metadata": {
      "needs_background": "light"
     },
     "output_type": "display_data"
    }
   ],
   "source": [
    "sns.boxplot(err_train_pa);"
   ]
  },
  {
   "cell_type": "code",
   "execution_count": 94,
   "id": "69e48aa2",
   "metadata": {},
   "outputs": [
    {
     "data": {
      "text/plain": [
       "[<matplotlib.lines.Line2D at 0x229ecf42df0>]"
      ]
     },
     "execution_count": 94,
     "metadata": {},
     "output_type": "execute_result"
    },
    {
     "data": {
      "image/png": "[encoded data removed]",
      "text/plain": [
       "<Figure size 432x288 with 1 Axes>"
      ]
     },
     "metadata": {
      "needs_background": "light"
     },
     "output_type": "display_data"
    }
   ],
   "source": [
    "plt.plot(err_train_pa, '*') #outliers"
   ]
  },
  {
   "cell_type": "code",
   "execution_count": 95,
   "id": "3bebe024",
   "metadata": {},
   "outputs": [],
   "source": [
    "pred_actual_pa=pd.DataFrame()\n",
    "pred_actual_pa['Actual']=pa_train_y\n",
    "pred_actual_pa['Predicted']=pred_train_pa"
   ]
  },
  {
   "cell_type": "code",
   "execution_count": null,
   "id": "15c410c7",
   "metadata": {},
   "outputs": [],
   "source": []
  },
  {
   "cell_type": "code",
   "execution_count": 96,
   "id": "58bd2ab0",
   "metadata": {},
   "outputs": [
    {
     "name": "stderr",
     "output_type": "stream",
     "text": [
      "E:\\Anakonda2022\\lib\\site-packages\\seaborn\\_decorators.py:36: FutureWarning: Pass the following variables as keyword args: x, y. From version 0.12, the only valid positional argument will be `data`, and passing other arguments without an explicit keyword will result in an error or misinterpretation.\n",
      "  warnings.warn(\n"
     ]
    },
    {
     "data": {
      "text/plain": [
       "<AxesSubplot:xlabel='Actual', ylabel='Predicted'>"
      ]
     },
     "execution_count": 96,
     "metadata": {},
     "output_type": "execute_result"
    },
    {
     "data": {
      "image/png": "[encoded data removed]",
      "text/plain": [
       "<Figure size 432x288 with 1 Axes>"
      ]
     },
     "metadata": {
      "needs_background": "light"
     },
     "output_type": "display_data"
    }
   ],
   "source": [
    "sns.regplot(pred_actual_pa.Actual,pred_actual_pa.Predicted)"
   ]
  },
  {
   "cell_type": "code",
   "execution_count": null,
   "id": "9f05508d",
   "metadata": {},
   "outputs": [],
   "source": []
  },
  {
   "cell_type": "code",
   "execution_count": 97,
   "id": "e94349fc",
   "metadata": {},
   "outputs": [
    {
     "data": {
      "text/plain": [
       "641266860.3951905"
      ]
     },
     "execution_count": 97,
     "metadata": {},
     "output_type": "execute_result"
    }
   ],
   "source": [
    "MSE_test_pa=np.mean(np.square(err_test_pa))\n",
    "MSE_test_pa"
   ]
  },
  {
   "cell_type": "code",
   "execution_count": 98,
   "id": "3386f6ed",
   "metadata": {},
   "outputs": [
    {
     "data": {
      "text/plain": [
       "25323.24742988526"
      ]
     },
     "execution_count": 98,
     "metadata": {},
     "output_type": "execute_result"
    }
   ],
   "source": [
    "RMSE_test_pa=np.sqrt(MSE_test_pa)\n",
    "RMSE_test_pa"
   ]
  },
  {
   "cell_type": "code",
   "execution_count": 99,
   "id": "677ab4c6",
   "metadata": {},
   "outputs": [
    {
     "data": {
      "text/plain": [
       "18240.20801906062"
      ]
     },
     "execution_count": 99,
     "metadata": {},
     "output_type": "execute_result"
    }
   ],
   "source": [
    "MAE_test_pa=np.mean(np.abs(err_test_pa))\n",
    "MAE_test_pa"
   ]
  },
  {
   "cell_type": "code",
   "execution_count": 100,
   "id": "7da9eff3",
   "metadata": {},
   "outputs": [
    {
     "data": {
      "text/plain": [
       "10.676960236518868"
      ]
     },
     "execution_count": 100,
     "metadata": {},
     "output_type": "execute_result"
    }
   ],
   "source": [
    "MAPE_pa=np.mean(np.abs((err_test_pa*100)/pa_test_y))\n",
    "MAPE_pa"
   ]
  },
  {
   "cell_type": "code",
   "execution_count": 101,
   "id": "50ba985e",
   "metadata": {},
   "outputs": [
    {
     "data": {
      "text/plain": [
       "89.32303976348113"
      ]
     },
     "execution_count": 101,
     "metadata": {},
     "output_type": "execute_result"
    }
   ],
   "source": [
    "ACC_pa=100-MAPE_pa\n",
    "ACC_pa"
   ]
  },
  {
   "cell_type": "code",
   "execution_count": 102,
   "id": "207c6897",
   "metadata": {},
   "outputs": [
    {
     "data": {
      "text/plain": [
       "count      1459.000000\n",
       "mean     180944.102810\n",
       "std       79464.918335\n",
       "min       34900.000000\n",
       "25%      129950.000000\n",
       "50%      163000.000000\n",
       "75%      214000.000000\n",
       "max      755000.000000\n",
       "Name: Sale_Price, dtype: float64"
      ]
     },
     "execution_count": 102,
     "metadata": {},
     "output_type": "execute_result"
    }
   ],
   "source": [
    "pa.Sale_Price.describe() #before outliers"
   ]
  },
  {
   "cell_type": "code",
   "execution_count": 54,
   "id": "eb7abf8a",
   "metadata": {},
   "outputs": [],
   "source": [
    "def remove_outliers(df,  col,k):   \n",
    "        mean = df[col].mean()\n",
    "        global df1  # output  dataframe which will have data after outliers are removed \n",
    "        sd = df[col].std()    \n",
    "        final_list = [x for x in df[col] if (x > mean - k * sd)]\n",
    "        final_list = [x for x in final_list if (x < mean + k * sd)]       \n",
    "        df1 = df.loc[df[col].isin(final_list)] ; print(df1.shape)     \n",
    "        print(\"Number of outliers removed == >\"   ,  df.shape[0]  - df1.shape[0])\n",
    "\n"
   ]
  },
  {
   "cell_type": "code",
   "execution_count": 55,
   "id": "2ddb1aa8",
   "metadata": {},
   "outputs": [
    {
     "name": "stdout",
     "output_type": "stream",
     "text": [
      "(1396, 75)\n",
      "Number of outliers removed == > 63\n"
     ]
    }
   ],
   "source": [
    "remove_outliers(pa,'Sale_Price',2) #calling the progran"
   ]
  },
  {
   "cell_type": "code",
   "execution_count": 56,
   "id": "34e06cde",
   "metadata": {},
   "outputs": [
    {
     "data": {
      "text/plain": [
       "count      1396.000000\n",
       "mean     170010.201289\n",
       "std       58940.755189\n",
       "min       34900.000000\n",
       "25%      128987.500000\n",
       "50%      159500.000000\n",
       "75%      203000.000000\n",
       "max      339750.000000\n",
       "Name: Sale_Price, dtype: float64"
      ]
     },
     "execution_count": 56,
     "metadata": {},
     "output_type": "execute_result"
    }
   ],
   "source": [
    "df1.Sale_Price.describe() #after outliers "
   ]
  },
  {
   "cell_type": "code",
   "execution_count": 57,
   "id": "8551e7bd",
   "metadata": {},
   "outputs": [],
   "source": [
    "#max price of property      755000.0  before outlier\n",
    "##max price of property     339750.0  after removing outlier\n",
    "#so model cant be used for property prices higher than 339750.0"
   ]
  },
  {
   "cell_type": "code",
   "execution_count": 58,
   "id": "142a2585",
   "metadata": {},
   "outputs": [
    {
     "data": {
      "text/plain": [
       "(1167, 74)"
      ]
     },
     "execution_count": 58,
     "metadata": {},
     "output_type": "execute_result"
    }
   ],
   "source": [
    "pa_train_x.shape"
   ]
  },
  {
   "cell_type": "code",
   "execution_count": 59,
   "id": "e29d6cab",
   "metadata": {},
   "outputs": [],
   "source": [
    "# i build the model for 1st time using 74 x variables( almots alll x variables)\n",
    "\n",
    "# bcoz i do not know which x variable may be important / significant\n",
    "#( some X variables may have more relation with y and some less\n",
    "#  and some may be insifgnificant)\n",
    "\n",
    "\n",
    "# what are the 2 main aim of building the model ????( Evalution)\n",
    "\n",
    "# 1 to get the model which has high performace \n",
    "# 2 my model should be as simple as possible ( so that we can iterpret it and make business decisions )\n",
    "\n",
    "\n",
    "# suppose person want to lose weight (1 diet , 2 exercise)\n",
    "\n",
    "# 1perosn was 80 kgs ..and he folows th same diest but exersiong( 5 km perday)  an in one month he losess 5 kgs (  have undestaing if running on weigt loss)\n",
    "\n",
    "# 2perosn was 80 kgs ..and he only makes change in diet and no other change( and loses 4 kg in 1 month)\n",
    "\n",
    "# 3 perosn was 80 kgs and starts exer and diet both and loses 6.5 kg in 1 month()\n",
    "\n",
    "#\n"
   ]
  },
  {
   "cell_type": "code",
   "execution_count": 60,
   "id": "1abeff7a",
   "metadata": {},
   "outputs": [],
   "source": [
    "# i will build the model once more but this time lets use only significant variable"
   ]
  },
  {
   "cell_type": "code",
   "execution_count": 61,
   "id": "c8b0bd7c",
   "metadata": {},
   "outputs": [],
   "source": [
    "# lets find corelation in all x variable with respect to y"
   ]
  },
  {
   "cell_type": "code",
   "execution_count": null,
   "id": "fe6108ab",
   "metadata": {},
   "outputs": [],
   "source": []
  },
  {
   "cell_type": "code",
   "execution_count": 62,
   "id": "f6c29c50",
   "metadata": {},
   "outputs": [],
   "source": [
    "l1=list(pa_train_x.columns)  #l1 stores columns of X variables"
   ]
  },
  {
   "cell_type": "code",
   "execution_count": null,
   "id": "3f18be5b",
   "metadata": {},
   "outputs": [],
   "source": []
  },
  {
   "cell_type": "code",
   "execution_count": 63,
   "id": "b1e8480e",
   "metadata": {},
   "outputs": [],
   "source": [
    "corr_list=[]\n",
    "for col in l1:\n",
    "    corr_list.append(pa.Sale_Price.corr(pa[col]))"
   ]
  },
  {
   "cell_type": "code",
   "execution_count": 64,
   "id": "e3524582",
   "metadata": {},
   "outputs": [],
   "source": [
    "df1=pd.DataFrame()"
   ]
  },
  {
   "cell_type": "code",
   "execution_count": 65,
   "id": "54bb8403",
   "metadata": {},
   "outputs": [],
   "source": [
    "df1[\"Name_of_col\"]=l1\n",
    "df1[\"Correlation\"]=corr_list"
   ]
  },
  {
   "cell_type": "code",
   "execution_count": 66,
   "id": "94e712e1",
   "metadata": {},
   "outputs": [],
   "source": [
    "df2=df1[(df1.Correlation>.1) | (df1.Correlation<-.1)]"
   ]
  },
  {
   "cell_type": "code",
   "execution_count": 67,
   "id": "21bb1b60",
   "metadata": {},
   "outputs": [],
   "source": [
    "l2=list(df2.Name_of_col)"
   ]
  },
  {
   "cell_type": "code",
   "execution_count": 68,
   "id": "4afd8906",
   "metadata": {},
   "outputs": [],
   "source": [
    "l2.append('Sale_Price')"
   ]
  },
  {
   "cell_type": "code",
   "execution_count": 69,
   "id": "3504a93c",
   "metadata": {},
   "outputs": [
    {
     "data": {
      "text/plain": [
       "['Zoning_Class',\n",
       " 'Lot_Extent',\n",
       " 'Lot_Size',\n",
       " 'Property_Shape',\n",
       " 'Neighborhood',\n",
       " 'House_Design',\n",
       " 'Overall_Material',\n",
       " 'Construction_Year',\n",
       " 'Remodel_Year',\n",
       " 'Roof_Design',\n",
       " 'Roof_Quality',\n",
       " 'Exterior1st',\n",
       " 'Exterior2nd',\n",
       " 'Brick_Veneer_Area',\n",
       " 'Exterior_Material',\n",
       " 'Exterior_Condition',\n",
       " 'Foundation_Type',\n",
       " 'Basement_Height',\n",
       " 'Exposure_Level',\n",
       " 'BsmtFinSF1',\n",
       " 'BsmtUnfSF',\n",
       " 'Total_Basement_Area',\n",
       " 'Heating_Quality',\n",
       " 'Air_Conditioning',\n",
       " 'Electrical_System',\n",
       " 'First_Floor_Area',\n",
       " 'Second_Floor_Area',\n",
       " 'Grade_Living_Area',\n",
       " 'Underground_Full_Bathroom',\n",
       " 'Full_Bathroom_Above_Grade',\n",
       " 'Half_Bathroom_Above_Grade',\n",
       " 'Bedroom_Above_Grade',\n",
       " 'Kitchen_Above_Grade',\n",
       " 'Kitchen_Quality',\n",
       " 'Rooms_Above_Grade',\n",
       " 'Functional_Rate',\n",
       " 'Fireplaces',\n",
       " 'Garage',\n",
       " 'Garage_Built_Year',\n",
       " 'Garage_Finish_Year',\n",
       " 'Garage_Size',\n",
       " 'Garage_Condition',\n",
       " 'Pavedd_Drive',\n",
       " 'Screen_Lobby_Area',\n",
       " 'Sale_Condition',\n",
       " 'Sale_Price']"
      ]
     },
     "execution_count": 69,
     "metadata": {},
     "output_type": "execute_result"
    }
   ],
   "source": [
    "l2"
   ]
  },
  {
   "cell_type": "code",
   "execution_count": null,
   "id": "b441575c",
   "metadata": {},
   "outputs": [],
   "source": []
  },
  {
   "cell_type": "code",
   "execution_count": 70,
   "id": "e5ee4334",
   "metadata": {},
   "outputs": [],
   "source": [
    "#lets build model using only these x variables"
   ]
  },
  {
   "cell_type": "code",
   "execution_count": 71,
   "id": "f7dac41f",
   "metadata": {},
   "outputs": [
    {
     "data": {
      "text/plain": [
       "46"
      ]
     },
     "execution_count": 71,
     "metadata": {},
     "output_type": "execute_result"
    }
   ],
   "source": [
    "len(l2)"
   ]
  },
  {
   "cell_type": "code",
   "execution_count": 72,
   "id": "c8bd075f",
   "metadata": {},
   "outputs": [],
   "source": [
    "# pa=pa.loc[:,l2]   #building model changes   check this line where it is inserted \n",
    "#this lines reduces data \n",
    "#so put it before train and test and run again  ,just one line it will do all changes\n"
   ]
  },
  {
   "cell_type": "code",
   "execution_count": null,
   "id": "46b284b1",
   "metadata": {},
   "outputs": [],
   "source": []
  },
  {
   "cell_type": "code",
   "execution_count": 73,
   "id": "6d9552b5",
   "metadata": {},
   "outputs": [],
   "source": [
    "# so before changes with 74 columns rsquare value of  .84\n",
    "# after changes with 45 columns rsquare value of  .81"
   ]
  },
  {
   "cell_type": "code",
   "execution_count": null,
   "id": "afab7e81",
   "metadata": {},
   "outputs": [],
   "source": []
  },
  {
   "cell_type": "code",
   "execution_count": null,
   "id": "7aa67bb1",
   "metadata": {},
   "outputs": [],
   "source": []
  },
  {
   "cell_type": "code",
   "execution_count": null,
   "id": "f9e6b205",
   "metadata": {},
   "outputs": [],
   "source": []
  }
 ],
 "metadata": {
  "kernelspec": {
   "display_name": "Python 3 (ipykernel)",
   "language": "python",
   "name": "python3"
  },
  "language_info": {
   "codemirror_mode": {
    "name": "ipython",
    "version": 3
   },
   "file_extension": ".py",
   "mimetype": "text/x-python",
   "name": "python",
   "nbconvert_exporter": "python",
   "pygments_lexer": "ipython3",
   "version": "3.9.12"
  }
 },
 "nbformat": 4,
 "nbformat_minor": 5
}
